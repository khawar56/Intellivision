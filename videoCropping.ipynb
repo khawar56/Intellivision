{
  "nbformat": 4,
  "nbformat_minor": 0,
  "metadata": {
    "colab": {
      "name": "videoCropping.ipynb",
      "provenance": []
    },
    "kernelspec": {
      "name": "python3",
      "display_name": "Python 3"
    }
  },
  "cells": [
    {
      "cell_type": "code",
      "metadata": {
        "id": "k--zgbCzgVGV"
      },
      "source": [
        "!apt install ffmpeg"
      ],
      "execution_count": null,
      "outputs": []
    },
    {
      "cell_type": "code",
      "metadata": {
        "id": "QqVq7XW_gvRU"
      },
      "source": [
        "!ffprobe -i /content/v_Basketball_g01_c01.avi -show_format | grep duration"
      ],
      "execution_count": null,
      "outputs": []
    },
    {
      "cell_type": "code",
      "metadata": {
        "id": "R6GuFbk1hbyo",
        "outputId": "f0cc2899-727e-4172-e091-dc43615043ac",
        "colab": {
          "base_uri": "https://localhost:8080/",
          "height": 34
        }
      },
      "source": [
        "duration = !ffprobe -i /content/video.MP4 -show_format -v quiet | sed -n 's/duration=//p'\n",
        "duration = float(duration[0])\n",
        "duration"
      ],
      "execution_count": null,
      "outputs": [
        {
          "output_type": "execute_result",
          "data": {
            "text/plain": [
              "219.638"
            ]
          },
          "metadata": {
            "tags": []
          },
          "execution_count": 26
        }
      ]
    },
    {
      "cell_type": "code",
      "metadata": {
        "id": "kLs8QTYxhxYZ",
        "outputId": "e58e89f5-70d4-43e8-f173-a54911820a47",
        "colab": {
          "base_uri": "https://localhost:8080/",
          "height": 34
        }
      },
      "source": [
        "219.638/6"
      ],
      "execution_count": null,
      "outputs": [
        {
          "output_type": "execute_result",
          "data": {
            "text/plain": [
              "36.60633333333333"
            ]
          },
          "metadata": {
            "tags": []
          },
          "execution_count": 27
        }
      ]
    },
    {
      "cell_type": "code",
      "metadata": {
        "id": "SbdGu6ZziJe3",
        "outputId": "0d4c15ee-1add-4b0a-d8b4-5ba9966936d0",
        "colab": {
          "base_uri": "https://localhost:8080/",
          "height": 34
        }
      },
      "source": [
        "duration"
      ],
      "execution_count": null,
      "outputs": [
        {
          "output_type": "execute_result",
          "data": {
            "text/plain": [
              "[]"
            ]
          },
          "metadata": {
            "tags": []
          },
          "execution_count": 18
        }
      ]
    },
    {
      "cell_type": "code",
      "metadata": {
        "id": "FMGXqd_5iMQ4",
        "outputId": "16596b04-43fc-4f10-880f-30114e05a46d",
        "colab": {
          "base_uri": "https://localhost:8080/",
          "height": 85
        }
      },
      "source": [
        "from moviepy.video.io.ffmpeg_tools import ffmpeg_extract_subclip\n",
        "ffmpeg_extract_subclip(\"/content/video.MP4\", 0, 6, targetname=\"/content/output/test.mp4\")"
      ],
      "execution_count": null,
      "outputs": [
        {
          "output_type": "stream",
          "text": [
            "\n",
            "[MoviePy] Running:\n",
            ">>> /usr/bin/ffmpeg -y -i /content/video.MP4 -ss 0.00 -t 6.00 -vcodec copy -acodec copy /content/output/test.mp4\n",
            "... command successful.\n"
          ],
          "name": "stdout"
        }
      ]
    },
    {
      "cell_type": "code",
      "metadata": {
        "id": "YMDL-4LptF1h"
      },
      "source": [
        "from moviepy.video.io.ffmpeg_tools import ffmpeg_extract_subclip"
      ],
      "execution_count": null,
      "outputs": []
    },
    {
      "cell_type": "code",
      "metadata": {
        "id": "kGU188Q-mbg1"
      },
      "source": [
        "import subprocess\n",
        "from moviepy.video.io.ffmpeg_tools import ffmpeg_extract_subclip\n",
        "video_path = '/content/video.MP4'\n",
        "#duration = !ffprobe -i '/content/video.MP4' -show_format -v quiet | sed -n 's/duration=//p'\n",
        "def video_length(filename):\n",
        "    result = subprocess.run([\"ffprobe\", \"-v\", \"error\", \"-show_entries\",\n",
        "                             \"format=duration\", \"-of\",\n",
        "                             \"default=noprint_wrappers=1:nokey=1\", filename],\n",
        "        stdout=subprocess.PIPE,\n",
        "        stderr=subprocess.STDOUT)\n",
        "    return float(result.stdout)\n",
        "duration = video_length(video_path)    \n",
        "num_clips = int(duration/6)\n",
        "start = 0\n",
        "end = 6 \n",
        "path = '/content/output/'\n",
        "format = '.MP4'\n",
        "for i in range(num_clips):\n",
        "  clip_num = 0\n",
        "  output = '%s%g%s' %(path,clip_num,format)\n",
        "  ffmpeg_extract_subclip(video_path, start, end, targetname=output)\n",
        "  start+=6\n",
        "  end+=6"
      ],
      "execution_count": null,
      "outputs": []
    },
    {
      "cell_type": "code",
      "metadata": {
        "id": "RYZ5tbEroAt_",
        "outputId": "d1157745-3108-4d37-ff7f-8f9982a8d58c",
        "colab": {
          "base_uri": "https://localhost:8080/"
        }
      },
      "source": [
        "start = 0:0 \n",
        "end = 0:6\n",
        "!ffmpeg -hide_banner -i \"/content/video.MP4\" -ss start -to end -c copy \"/content/output/\"/\"1\"-TRIM.\"MP4\""
      ],
      "execution_count": null,
      "outputs": [
        {
          "output_type": "stream",
          "text": [
            "Input #0, mov,mp4,m4a,3gp,3g2,mj2, from '/content/video.MP4':\n",
            "  Metadata:\n",
            "    major_brand     : mp42\n",
            "    minor_version   : 0\n",
            "    compatible_brands: isommp42\n",
            "    creation_time   : 2020-05-20T13:08:58.000000Z\n",
            "  Duration: 00:03:39.64, start: 0.000000, bitrate: 569 kb/s\n",
            "    Stream #0:0(und): Video: h264 (Constrained Baseline) (avc1 / 0x31637661), yuv420p(tv, bt709), 640x360 [SAR 1:1 DAR 16:9], 471 kb/s, 25 fps, 25 tbr, 12800 tbn, 50 tbc (default)\n",
            "    Metadata:\n",
            "      creation_time   : 2020-05-20T13:08:58.000000Z\n",
            "      handler_name    : ISO Media file produced by Google Inc. Created on: 05/20/2020.\n",
            "    Stream #0:1(eng): Audio: aac (LC) (mp4a / 0x6134706D), 44100 Hz, stereo, fltp, 95 kb/s (default)\n",
            "    Metadata:\n",
            "      creation_time   : 2020-05-20T13:08:58.000000Z\n",
            "      handler_name    : ISO Media file produced by Google Inc. Created on: 05/20/2020.\n",
            "\u001b[4;31mInvalid duration specification for ss: start\n",
            "\u001b[0m"
          ],
          "name": "stdout"
        }
      ]
    },
    {
      "cell_type": "code",
      "metadata": {
        "id": "xDpTnESCoCfG"
      },
      "source": [
        "s1 = \"hello\"\n",
        "s2 = 43\n",
        "s3 = \".MP4\"\n",
        "final = '%s%g%s' %(s1, s2, s3)"
      ],
      "execution_count": null,
      "outputs": []
    },
    {
      "cell_type": "code",
      "metadata": {
        "id": "iUePZjD7qtIM",
        "outputId": "584ee1dd-1c42-4be2-c250-fa9d5bed96e3",
        "colab": {
          "base_uri": "https://localhost:8080/",
          "height": 37
        }
      },
      "source": [
        "final"
      ],
      "execution_count": null,
      "outputs": [
        {
          "output_type": "execute_result",
          "data": {
            "application/vnd.google.colaboratory.intrinsic+json": {
              "type": "string"
            },
            "text/plain": [
              "'hello43.MP4'"
            ]
          },
          "metadata": {
            "tags": []
          },
          "execution_count": 6
        }
      ]
    },
    {
      "cell_type": "code",
      "metadata": {
        "id": "MRANdAlIs4QB"
      },
      "source": [
        "!cp -r /content/output /content/drive/My\\ Drive/outputs"
      ],
      "execution_count": null,
      "outputs": []
    },
    {
      "cell_type": "code",
      "metadata": {
        "id": "CdlUcSUKuRg5"
      },
      "source": [
        "!rm -r /content/output\n",
        "!mkdir /content/output"
      ],
      "execution_count": null,
      "outputs": []
    },
    {
      "cell_type": "code",
      "metadata": {
        "id": "NVslPbXmwu8q"
      },
      "source": [
        "import os \n",
        "p = os.path.normpath(video_path)"
      ],
      "execution_count": null,
      "outputs": []
    },
    {
      "cell_type": "code",
      "metadata": {
        "id": "PI3E_Ssax8Uv",
        "outputId": "cb1ac244-12ac-42c1-eaba-c549f656b082",
        "colab": {
          "base_uri": "https://localhost:8080/",
          "height": 37
        }
      },
      "source": [
        "p"
      ],
      "execution_count": null,
      "outputs": [
        {
          "output_type": "execute_result",
          "data": {
            "application/vnd.google.colaboratory.intrinsic+json": {
              "type": "string"
            },
            "text/plain": [
              "'/content/video.MP4'"
            ]
          },
          "metadata": {
            "tags": []
          },
          "execution_count": 40
        }
      ]
    },
    {
      "cell_type": "code",
      "metadata": {
        "id": "MDJ7Kwy6x9Vu"
      },
      "source": [
        "def ret_path(path):\n",
        "  return path  "
      ],
      "execution_count": null,
      "outputs": []
    },
    {
      "cell_type": "code",
      "metadata": {
        "id": "f1BZsQ6C0efu",
        "outputId": "0333c085-3715-4b09-e7ff-ee44671d8188",
        "colab": {
          "base_uri": "https://localhost:8080/",
          "height": 34
        }
      },
      "source": [
        "p = 'content/he/'\n",
        "print(ret_path(p))"
      ],
      "execution_count": null,
      "outputs": [
        {
          "output_type": "stream",
          "text": [
            "content/he/\n"
          ],
          "name": "stdout"
        }
      ]
    },
    {
      "cell_type": "code",
      "metadata": {
        "id": "PQxzbGWt0mpG",
        "outputId": "52e7b96a-0297-4711-a949-f6e6dbbdfc01",
        "colab": {
          "base_uri": "https://localhost:8080/",
          "height": 37
        }
      },
      "source": [
        "import os \n",
        "video_path = '/content/video.MP4'\n",
        "os.path.normpath(video_path)"
      ],
      "execution_count": null,
      "outputs": [
        {
          "output_type": "execute_result",
          "data": {
            "application/vnd.google.colaboratory.intrinsic+json": {
              "type": "string"
            },
            "text/plain": [
              "'/content/video.MP4'"
            ]
          },
          "metadata": {
            "tags": []
          },
          "execution_count": 2
        }
      ]
    },
    {
      "cell_type": "code",
      "metadata": {
        "id": "rR6HaB9l16-n"
      },
      "source": [
        "import subprocess\n",
        "\n",
        "def get_length(filename):\n",
        "    result = subprocess.run([\"ffprobe\", \"-v\", \"error\", \"-show_entries\",\n",
        "                             \"format=duration\", \"-of\",\n",
        "                             \"default=noprint_wrappers=1:nokey=1\", filename],\n",
        "        stdout=subprocess.PIPE,\n",
        "        stderr=subprocess.STDOUT)\n",
        "    return float(result.stdout)"
      ],
      "execution_count": null,
      "outputs": []
    },
    {
      "cell_type": "code",
      "metadata": {
        "id": "89RMaBes3YXu",
        "outputId": "b8298cda-3cd6-4899-ebd5-bd15958739e0",
        "colab": {
          "base_uri": "https://localhost:8080/",
          "height": 34
        }
      },
      "source": [
        "get_length(video_path)"
      ],
      "execution_count": null,
      "outputs": [
        {
          "output_type": "execute_result",
          "data": {
            "text/plain": [
              "219.638"
            ]
          },
          "metadata": {
            "tags": []
          },
          "execution_count": 6
        }
      ]
    },
    {
      "cell_type": "code",
      "metadata": {
        "id": "T5CMHhXJ3eQt"
      },
      "source": [
        ""
      ],
      "execution_count": null,
      "outputs": []
    }
  ]
}