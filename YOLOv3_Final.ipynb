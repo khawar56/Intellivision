{
  "nbformat": 4,
  "nbformat_minor": 0,
  "metadata": {
    "colab": {
      "name": "YOLO Ultralytics working.ipynb",
      "provenance": [],
      "collapsed_sections": []
    },
    "kernelspec": {
      "name": "python3",
      "display_name": "Python 3"
    },
    "accelerator": "GPU"
  },
  "cells": [
    {
      "cell_type": "code",
      "metadata": {
        "id": "Q-rDU2TPZRUa",
        "colab_type": "code",
        "colab": {
          "base_uri": "https://localhost:8080/",
          "height": 118
        },
        "outputId": "808edd88-5e20-4688-96dc-8bcb5cc99b64"
      },
      "source": [
        "from google.colab import drive\n",
        "drive.mount('/content/drive')"
      ],
      "execution_count": null,
      "outputs": [
        {
          "output_type": "stream",
          "text": [
            "Go to this URL in a browser: https://accounts.google.com/o/oauth2/auth?client_id=947318989803-6bn6qk8qdgf4n4g3pfee6491hc0brc4i.apps.googleusercontent.com&redirect_uri=urn%3aietf%3awg%3aoauth%3a2.0%3aoob&response_type=code&scope=email%20https%3a%2f%2fwww.googleapis.com%2fauth%2fdocs.test%20https%3a%2f%2fwww.googleapis.com%2fauth%2fdrive%20https%3a%2f%2fwww.googleapis.com%2fauth%2fdrive.photos.readonly%20https%3a%2f%2fwww.googleapis.com%2fauth%2fpeopleapi.readonly\n",
            "\n",
            "Enter your authorization code:\n",
            "··········\n",
            "Mounted at /content/drive\n"
          ],
          "name": "stdout"
        }
      ]
    },
    {
      "cell_type": "code",
      "metadata": {
        "id": "9PtfNmjCNmNY",
        "colab_type": "code",
        "colab": {
          "base_uri": "https://localhost:8080/",
          "height": 131
        },
        "outputId": "a57347ca-b860-4c95-8e52-45ace54cdcc4"
      },
      "source": [
        "!git clone https://github.com/ultralytics/yolov3"
      ],
      "execution_count": null,
      "outputs": [
        {
          "output_type": "stream",
          "text": [
            "Cloning into 'yolov3'...\n",
            "remote: Enumerating objects: 10, done.\u001b[K\n",
            "remote: Counting objects:  10% (1/10)\u001b[K\rremote: Counting objects:  20% (2/10)\u001b[K\rremote: Counting objects:  30% (3/10)\u001b[K\rremote: Counting objects:  40% (4/10)\u001b[K\rremote: Counting objects:  50% (5/10)\u001b[K\rremote: Counting objects:  60% (6/10)\u001b[K\rremote: Counting objects:  70% (7/10)\u001b[K\rremote: Counting objects:  80% (8/10)\u001b[K\rremote: Counting objects:  90% (9/10)\u001b[K\rremote: Counting objects: 100% (10/10)\u001b[K\rremote: Counting objects: 100% (10/10), done.\u001b[K\n",
            "remote: Compressing objects: 100% (9/9), done.\u001b[K\n",
            "remote: Total 9229 (delta 2), reused 7 (delta 1), pack-reused 9219\u001b[K\n",
            "Receiving objects: 100% (9229/9229), 7.14 MiB | 18.46 MiB/s, done.\n",
            "Resolving deltas: 100% (6356/6356), done.\n"
          ],
          "name": "stdout"
        }
      ]
    },
    {
      "cell_type": "code",
      "metadata": {
        "id": "kojkXHYAL1Kf",
        "colab_type": "code",
        "colab": {
          "base_uri": "https://localhost:8080/",
          "height": 135
        },
        "outputId": "5e7ddf9b-7b49-4cc3-ca80-6c1c6e95241f"
      },
      "source": [
        "%cd yolov3\n",
        "import time\n",
        "import glob\n",
        "import torch\n",
        "import os\n",
        "\n",
        "import argparse\n",
        "from sys import platform\n",
        "\n",
        "from models import *\n",
        "from utils.datasets import *\n",
        "from utils.utils import *\n",
        "\n",
        "from IPython.display import HTML\n",
        "from base64 import b64encode\n",
        "\n",
        "parser = argparse.ArgumentParser()\n",
        "parser.add_argument('--cfg', type=str, default='cfg/yolov3-spp.cfg', help='*.cfg path')\n",
        "parser.add_argument('--names', type=str, default='data/coco.names', help='*.names path')\n",
        "parser.add_argument('--weights', type=str, default='weights/yolov3-spp-ultralytics.pt', help='weights path')\n",
        "\n",
        "parser.add_argument('--img-size', type=int, default=416, help='inference size (pixels)')\n",
        "parser.add_argument('--conf-thres', type=float, default=0.3, help='object confidence threshold')\n",
        "parser.add_argument('--iou-thres', type=float, default=0.6, help='IOU threshold for NMS')\n",
        "\n",
        "\n",
        "parser.add_argument('--device', default='', help='device id (i.e. 0 or 0,1) or cpu')\n",
        "\n",
        "\n",
        "parser.add_argument('--classes', nargs='+', type=int, help='filter by class')\n",
        "parser.add_argument('--agnostic-nms', action='store_true', help='class-agnostic NMS')\n",
        "opt = parser.parse_args(args = [])\n",
        "\n",
        "weights = opt.weights\n",
        "img_size =  opt.img_size\n",
        "\n",
        "# Initialize\n",
        "device = torch_utils.select_device(device='cpu' if ONNX_EXPORT else opt.device)\n",
        "\n",
        "# Initialize model\n",
        "model = Darknet(opt.cfg, img_size)\n",
        "\n",
        "# Load weights\n",
        "attempt_download(weights)\n",
        "if weights.endswith('.pt'):  # pytorch format\n",
        "    model.load_state_dict(torch.load(weights, map_location=device)['model'])\n",
        "else:  # darknet format\n",
        "    load_darknet_weights(model, weights)\n",
        "\n",
        "model.to(device).eval();\n",
        "\n",
        "# Get names and colors\n",
        "names = load_classes(opt.names)\n",
        "colors = [[random.randint(0, 255) for _ in range(3)] for _ in range(len(names))]\n",
        "\n",
        "%cd .. \n",
        "\n",
        "def predict_one_video(path_video, output_dir = 'output'): \n",
        "\n",
        "    if not os.path.exists(output_dir):\n",
        "        os.makedirs(output_dir)\n",
        "\n",
        "    cap  = cv2.VideoCapture(path_video)\n",
        "    _, img0 = cap.read()\n",
        "\n",
        "    save_path = os.path.join(output_dir, os.path.split(path_video)[-1]) \n",
        "    fps = cap.get(cv2.CAP_PROP_FPS)\n",
        "    w = int(cap.get(cv2.CAP_PROP_FRAME_WIDTH))\n",
        "    h = int(cap.get(cv2.CAP_PROP_FRAME_HEIGHT))\n",
        "    vid_writer = cv2.VideoWriter(save_path, cv2.VideoWriter_fourcc(*'MP4V'), fps, (w, h))\n",
        "\n",
        "    while img0 is not None: \n",
        "\n",
        "        # Padded resize\n",
        "        img = letterbox(img0, new_shape=opt.img_size)[0]\n",
        "\n",
        "        # Convert\n",
        "        img = img[:, :, ::-1].transpose(2, 0, 1)  # BGR to RGB, to 3xHxW\n",
        "        img = np.ascontiguousarray(img)\n",
        "\n",
        "        img = torch.from_numpy(img).to(device)\n",
        "        img = img.float()  # uint8 to fp16/32\n",
        "        img /= 255.0  # 0 - 255 to 0.0 - 1.0\n",
        "        if img.ndimension() == 3:\n",
        "            img = img.unsqueeze(0)\n",
        "\n",
        "        pred = model(img)[0]\n",
        "        # Apply NMS\n",
        "        pred = non_max_suppression(pred, opt.conf_thres, opt.iou_thres, classes=opt.classes, agnostic=opt.agnostic_nms)\n",
        "\n",
        "        # Process detections\n",
        "        for i, det in enumerate(pred):  # detections per image\n",
        "            im0 = img0 ##### Ganti im0s menjadi img0\n",
        "\n",
        "            if det is not None and len(det):\n",
        "                # Rescale boxes from img_size to im0 size\n",
        "                det[:, :4] = scale_coords(img.shape[2:], det[:, :4], im0.shape).round()\n",
        "\n",
        "                # Write results\n",
        "                for *xyxy, conf, cls in det:\n",
        "                    label = '%s %.2f' % (names[int(cls)], conf)\n",
        "                    plot_one_box(xyxy, im0, label=label, color=colors[int(cls)])\n",
        "\n",
        "        vid_writer.write(im0)\n",
        "        _, img0 = cap.read()\n",
        "\n",
        "    vid_writer.release()\n",
        "\n",
        "    return save_path\n"
      ],
      "execution_count": null,
      "outputs": [
        {
          "output_type": "stream",
          "text": [
            "/content/yolov3\n",
            "Using CUDA device0 _CudaDeviceProperties(name='Tesla K80', total_memory=11441MB)\n",
            "\n",
            "Model Summary: 225 layers, 6.29987e+07 parameters, 6.29987e+07 gradients\n",
            "Downloading https://drive.google.com/uc?export=download&id=1UcR-zVoMs7DH5dj3N1bswkiQTA4dmKF4 as weights/yolov3-spp-ultralytics.pt... Done (2.2s)\n",
            "/content\n"
          ],
          "name": "stdout"
        }
      ]
    },
    {
      "cell_type": "markdown",
      "metadata": {
        "id": "w5SbLvzLU3i_",
        "colab_type": "text"
      },
      "source": [
        "# Download videos from youtube "
      ]
    },
    {
      "cell_type": "code",
      "metadata": {
        "id": "1LEWy4FDUtXp",
        "colab_type": "code",
        "colab": {
          "base_uri": "https://localhost:8080/",
          "height": 118
        },
        "outputId": "cd9a1732-9aa8-4d6c-99df-63a24fb799fc"
      },
      "source": [
        "!pip install pytube3\n",
        "from pytube import YouTube "
      ],
      "execution_count": null,
      "outputs": [
        {
          "output_type": "stream",
          "text": [
            "Collecting pytube3\n",
            "  Downloading https://files.pythonhosted.org/packages/de/86/198092763646eac7abd2063192ab44ea44ad8fd6d6f3ad8586b38afcd52a/pytube3-9.6.4-py3-none-any.whl\n",
            "Requirement already satisfied: typing-extensions in /usr/local/lib/python3.6/dist-packages (from pytube3) (3.6.6)\n",
            "Installing collected packages: pytube3\n",
            "Successfully installed pytube3-9.6.4\n"
          ],
          "name": "stdout"
        }
      ]
    },
    {
      "cell_type": "code",
      "metadata": {
        "id": "xmTzSMxJWrWb",
        "colab_type": "code",
        "colab": {}
      },
      "source": [
        "video = YouTube('https://www.youtube.com/watch?v=XPFjFp3SF-w')\n",
        "video.streams.filter(file_extension = \"mp4\").all()"
      ],
      "execution_count": null,
      "outputs": []
    },
    {
      "cell_type": "markdown",
      "metadata": {
        "id": "UounLt2eW3yY",
        "colab_type": "text"
      },
      "source": [
        "just select a video, preferably 360, and paste it's itag in the function below \n",
        "\n",
        "!!connect your drive first!!\n",
        "\n",
        "\n",
        "saving it to drive so dont have to download videos over and over "
      ]
    },
    {
      "cell_type": "code",
      "metadata": {
        "id": "HL64yo1RWuNZ",
        "colab_type": "code",
        "colab": {}
      },
      "source": [
        "video.streams.get_by_itag(135).download('/content/drive/My Drive/8m videos')"
      ],
      "execution_count": null,
      "outputs": []
    },
    {
      "cell_type": "markdown",
      "metadata": {
        "id": "NekDq0GwhmE4",
        "colab_type": "text"
      },
      "source": [
        "# Process Video"
      ]
    },
    {
      "cell_type": "markdown",
      "metadata": {
        "id": "1Zvw8vl9XYuq",
        "colab_type": "text"
      },
      "source": [
        "Copying downlaoded video back from drive to VM"
      ]
    },
    {
      "cell_type": "code",
      "metadata": {
        "id": "ZhOPbSjJVaD7",
        "colab_type": "code",
        "colab": {}
      },
      "source": [
        "!mkdir -p input_video\n",
        "!mkdir -p output_compressed"
      ],
      "execution_count": null,
      "outputs": []
    },
    {
      "cell_type": "code",
      "metadata": {
        "id": "3ModE_u1TCK-",
        "colab_type": "code",
        "colab": {}
      },
      "source": [
        "!cp /content/drive/My\\ Drive/8m\\ videos/sanandreas.mp4 /content/input_video"
      ],
      "execution_count": null,
      "outputs": []
    },
    {
      "cell_type": "code",
      "metadata": {
        "id": "cSytfayw0vyM",
        "colab_type": "code",
        "colab": {}
      },
      "source": [
        "'''path_video = os.path.join(\"/content/input_video/\",\"3.mp4\")\n",
        "save_path = predict_one_video(path_video)\n",
        "\n",
        "# Show video\n",
        "mp4 = open(path_video,'rb').read()\n",
        "data_url = \"data:video/mp4;base64,\" + b64encode(mp4).decode()\n",
        "HTML(\"\"\"\n",
        "<video width=400 controls>\n",
        "      <source src=\"%s\" type=\"video/mp4\">\n",
        "</video>\n",
        "\"\"\" % data_url)"
      ],
      "execution_count": null,
      "outputs": []
    },
    {
      "cell_type": "code",
      "metadata": {
        "id": "osBzRGoxMAE9",
        "colab_type": "code",
        "colab": {}
      },
      "source": [
        "'''# compress video\n",
        "compressed_path = os.path.join(\"output_compressed\", os.path.split(save_path)[-1])\n",
        "os.system(f\"ffmpeg -i {save_path} -vcodec libx264 {compressed_path}\")\n",
        "\n",
        "# Show video\n",
        "mp4 = open(compressed_path,'rb').read()\n",
        "data_url = \"data:video/mp4;base64,\" + b64encode(mp4).decode()\n",
        "HTML(\"\"\"\n",
        "<video width=400 controls>\n",
        "      <source src=\"%s\" type=\"video/mp4\">\n",
        "</video>\n",
        "\"\"\" % data_url)"
      ],
      "execution_count": null,
      "outputs": []
    },
    {
      "cell_type": "markdown",
      "metadata": {
        "id": "JIA7HvoKYHK-",
        "colab_type": "text"
      },
      "source": [
        "output video will be stored in output_compressed folder "
      ]
    },
    {
      "cell_type": "code",
      "metadata": {
        "id": "47aetUx1Mm4I",
        "colab_type": "code",
        "colab": {}
      },
      "source": [
        "path_video = os.path.join(\"/content/input_video/\",\"sanandreas.mp4\")\n",
        "save_path = predict_one_video(path_video)\n",
        "\n",
        "# compress video\n",
        "compressed_path = os.path.join(\"output_compressed\", os.path.split(save_path)[-1])\n",
        "os.system(f\"ffmpeg -i {save_path} -vcodec libx264 {compressed_path}\")\n"
      ],
      "execution_count": null,
      "outputs": []
    },
    {
      "cell_type": "markdown",
      "metadata": {
        "id": "dnEiHTLiYS_y",
        "colab_type": "text"
      },
      "source": [
        "Run this if you wanna store processd video back to drive and view it from there to avoid downloading "
      ]
    },
    {
      "cell_type": "code",
      "metadata": {
        "id": "bmtBhRK5c_DN",
        "colab_type": "code",
        "colab": {
          "base_uri": "https://localhost:8080/",
          "height": 32
        },
        "outputId": "7ecdece2-7661-478d-a3a4-b2e049db0b8f"
      },
      "source": [
        "!cp /content/output_compressed/sanandreas.mp4 /content/drive/My\\ Drive/processed\\ videos"
      ],
      "execution_count": null,
      "outputs": [
        {
          "output_type": "stream",
          "text": [
            "cp: cannot stat '/content/output_compressed/sanandreas.mp4': No such file or directory\n"
          ],
          "name": "stdout"
        }
      ]
    },
    {
      "cell_type": "code",
      "metadata": {
        "id": "KIaN8Nb2pBL4",
        "colab_type": "code",
        "colab": {}
      },
      "source": [
        "!cp  /content/drive/My\\ Drive/processed\\ videos/3.mp4 /content/output_compressed/"
      ],
      "execution_count": null,
      "outputs": []
    },
    {
      "cell_type": "code",
      "metadata": {
        "id": "XvVX1eydcf8-",
        "colab_type": "code",
        "colab": {}
      },
      "source": [
        "mp4 = open('/content/output_compressed/3.mp4','rb').read()\n",
        "data_url = \"data:video/mp4;base64,\" + b64encode(mp4).decode()\n",
        "HTML(\"\"\"\n",
        "<video width=400 controls>\n",
        "      <source src=\"%s\" type=\"video/mp4\">\n",
        "</video>\n",
        "\"\"\" % data_url)"
      ],
      "execution_count": null,
      "outputs": []
    }
  ]
}