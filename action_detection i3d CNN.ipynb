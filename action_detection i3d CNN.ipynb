{
  "nbformat": 4,
  "nbformat_minor": 0,
  "metadata": {
    "accelerator": "GPU",
    "colab": {
      "name": "action detection",
      "provenance": [],
      "private_outputs": true,
      "collapsed_sections": [
        "QUu8SAH4rpiP"
      ]
    },
    "kernelspec": {
      "display_name": "Python 3",
      "name": "python3"
    }
  },
  "cells": [
    {
      "cell_type": "markdown",
      "metadata": {
        "id": "aScGbw3l6o2U",
        "colab_type": "text"
      },
      "source": [
        "# cloning in github repo"
      ]
    },
    {
      "cell_type": "code",
      "metadata": {
        "id": "hwwhcNb05fBy",
        "colab_type": "code",
        "colab": {}
      },
      "source": [
        "!git clone https://github.com/deepmind/kinetics-i3d.git"
      ],
      "execution_count": null,
      "outputs": []
    },
    {
      "cell_type": "code",
      "metadata": {
        "id": "Vm1peIhJ5yKd",
        "colab_type": "code",
        "colab": {}
      },
      "source": [
        "%cd /content/kinetics-i3d"
      ],
      "execution_count": null,
      "outputs": []
    },
    {
      "cell_type": "code",
      "metadata": {
        "id": "LGnWac3q6VlD",
        "colab_type": "code",
        "colab": {}
      },
      "source": [
        "!python evaluate_sample.py"
      ],
      "execution_count": null,
      "outputs": []
    },
    {
      "cell_type": "markdown",
      "metadata": {
        "id": "7M2o-LOz6wG_",
        "colab_type": "text"
      },
      "source": [
        "# necessary imports"
      ]
    },
    {
      "cell_type": "code",
      "metadata": {
        "colab_type": "code",
        "id": "mOHMWsFnITdi",
        "colab": {}
      },
      "source": [
        "!pip install -q imageio\n",
        "!pip install -q opencv-python\n",
        "!pip install -q git+https://github.com/tensorflow/docs"
      ],
      "execution_count": null,
      "outputs": []
    },
    {
      "cell_type": "code",
      "metadata": {
        "cellView": "both",
        "colab_type": "code",
        "id": "USf0UvkYIlKo",
        "colab": {}
      },
      "source": [
        "from absl import logging\n",
        "import tensorflow as tf\n",
        "import tensorflow_hub as hub\n",
        "from tensorflow_docs.vis import embed\n",
        "logging.set_verbosity(logging.ERROR)\n",
        "import random\n",
        "import re\n",
        "import os\n",
        "import tempfile\n",
        "import ssl\n",
        "import cv2\n",
        "import numpy as np\n",
        "import imageio\n",
        "from IPython import display\n",
        "from urllib import request \n",
        "from IPython.display import HTML\n",
        "from base64 import b64encode"
      ],
      "execution_count": null,
      "outputs": []
    },
    {
      "cell_type": "markdown",
      "metadata": {
        "id": "R38uEUMN65pF",
        "colab_type": "text"
      },
      "source": [
        "# Action detection"
      ]
    },
    {
      "cell_type": "code",
      "metadata": {
        "cellView": "both",
        "colab_type": "code",
        "id": "IuMMS3TGdws7",
        "colab": {}
      },
      "source": [
        "# Utilities to fetch videos from UCF101 dataset\n",
        "UCF_ROOT = \"https://www.crcv.ucf.edu/THUMOS14/UCF101/UCF101/\"\n",
        "_VIDEO_LIST = None\n",
        "_CACHE_DIR = tempfile.mkdtemp()\n",
        "unverified_context = ssl._create_unverified_context()\n",
        "\n",
        "def list_ucf_videos():\n",
        "  \"\"\"Lists videos available in UCF101 dataset.\"\"\"\n",
        "  global _VIDEO_LIST\n",
        "  if not _VIDEO_LIST:\n",
        "    index = request.urlopen(UCF_ROOT, context=unverified_context).read().decode(\"utf-8\")\n",
        "    videos = re.findall(\"(v_[\\w_]+\\.avi)\", index)\n",
        "    _VIDEO_LIST = sorted(set(videos))\n",
        "  return list(_VIDEO_LIST)"
      ],
      "execution_count": null,
      "outputs": []
    },
    {
      "cell_type": "code",
      "metadata": {
        "id": "PBD_fgAd7nmk",
        "colab_type": "code",
        "colab": {}
      },
      "source": [
        "def fetch_ucf_video(video):\n",
        "  \"\"\"Fetchs a video and cache into local filesystem.\"\"\"\n",
        "  cache_path = os.path.join(_CACHE_DIR, video)\n",
        "  if not os.path.exists(cache_path):\n",
        "    urlpath = request.urljoin(UCF_ROOT, video)\n",
        "    print(\"Fetching %s => %s\" % (urlpath, cache_path))\n",
        "    data = request.urlopen(urlpath, context=unverified_context).read()\n",
        "    open(cache_path, \"wb\").write(data)\n",
        "  return cache_path"
      ],
      "execution_count": null,
      "outputs": []
    },
    {
      "cell_type": "code",
      "metadata": {
        "id": "3cA6Z54E7j1_",
        "colab_type": "code",
        "colab": {}
      },
      "source": [
        "def crop_center_square(frame):\n",
        "  y, x = frame.shape[0:2]\n",
        "  min_dim = min(y, x)\n",
        "  start_x = (x // 2) - (min_dim // 2)\n",
        "  start_y = (y // 2) - (min_dim // 2)\n",
        "  return frame[start_y:start_y+min_dim,start_x:start_x+min_dim]"
      ],
      "execution_count": null,
      "outputs": []
    },
    {
      "cell_type": "code",
      "metadata": {
        "id": "Ig_bMBk_7hfo",
        "colab_type": "code",
        "colab": {}
      },
      "source": [
        "def load_video(path, max_frames=0, resize=(224, 224)):\n",
        "  cap = cv2.VideoCapture(path)\n",
        "  frames = []\n",
        "  try:\n",
        "    while True:\n",
        "      ret, frame = cap.read()\n",
        "      if not ret:\n",
        "        break\n",
        "      frame = crop_center_square(frame)\n",
        "      frame = cv2.resize(frame, resize)\n",
        "      frame = frame[:, :, [2, 1, 0]]\n",
        "      frames.append(frame)\n",
        "      \n",
        "      if len(frames) == max_frames:\n",
        "        break\n",
        "  finally:\n",
        "    cap.release()\n",
        "  return np.array(frames) / 255.0"
      ],
      "execution_count": null,
      "outputs": []
    },
    {
      "cell_type": "code",
      "metadata": {
        "id": "1jX3ZsHN7e4-",
        "colab_type": "code",
        "colab": {}
      },
      "source": [
        "def to_gif(images):\n",
        "  converted_images = np.clip(images * 255, 0, 255).astype(np.uint8)\n",
        "  imageio.mimsave('./animation.gif', converted_images, fps=25)\n",
        "  return embed.embed_file('./animation.gif')"
      ],
      "execution_count": null,
      "outputs": []
    },
    {
      "cell_type": "markdown",
      "metadata": {
        "id": "k8E4SZ0n9fpf",
        "colab_type": "text"
      },
      "source": [
        "**downloading labels**"
      ]
    },
    {
      "cell_type": "code",
      "metadata": {
        "cellView": "both",
        "colab_type": "code",
        "id": "pIKTs-KneUfz",
        "colab": {}
      },
      "source": [
        "#kinetics 600 labels\n",
        "KINETICS_URL = \"https://raw.githubusercontent.com/deepmind/kinetics-i3d/master/data/label_map_600.txt\"\n",
        "with request.urlopen(KINETICS_URL) as obj:\n",
        "  labels = [line.decode(\"utf-8\").strip() for line in obj.readlines()]\n",
        "print(\"Found %d labels.\" % len(labels))"
      ],
      "execution_count": null,
      "outputs": []
    },
    {
      "cell_type": "markdown",
      "metadata": {
        "id": "yjHkK0sC8vXK",
        "colab_type": "text"
      },
      "source": [
        "**Download videos from youtube or UCF 101**"
      ]
    },
    {
      "cell_type": "code",
      "metadata": {
        "id": "hoyilA538uss",
        "colab_type": "code",
        "colab": {}
      },
      "source": [
        "!pip install pytube3\n",
        "from pytube import YouTube "
      ],
      "execution_count": null,
      "outputs": []
    },
    {
      "cell_type": "code",
      "metadata": {
        "id": "s8A0oiPV801m",
        "colab_type": "code",
        "colab": {}
      },
      "source": [
        "video = YouTube('URL')\n",
        "video.streams.filter(file_extension = \"mp4\").all()"
      ],
      "execution_count": null,
      "outputs": []
    },
    {
      "cell_type": "code",
      "metadata": {
        "id": "xA2m-qVt8-vH",
        "colab_type": "code",
        "colab": {}
      },
      "source": [
        "video.streams.get_by_itag(135).download('PATH')"
      ],
      "execution_count": null,
      "outputs": []
    },
    {
      "cell_type": "code",
      "metadata": {
        "id": "qnbC9oO99BCl",
        "colab_type": "code",
        "colab": {}
      },
      "source": [
        "mp4 = open('PATH.mp4','rb').read()\n",
        "data_url = \"data:video/mp4;base64,\" + b64encode(mp4).decode()\n",
        "HTML(\"\"\"\n",
        "<video width=400 controls>\n",
        "      <source src=\"%s\" type=\"video/mp4\">\n",
        "</video>\n",
        "\"\"\" % data_url)"
      ],
      "execution_count": null,
      "outputs": []
    },
    {
      "cell_type": "markdown",
      "metadata": {
        "id": "HGc1VBZhFbp5",
        "colab_type": "text"
      },
      "source": [
        "*list ucf videos to download*"
      ]
    },
    {
      "cell_type": "code",
      "metadata": {
        "id": "A4hwdVn_7Pfy",
        "colab_type": "code",
        "colab": {}
      },
      "source": [
        "len(list_ucf_videos())"
      ],
      "execution_count": null,
      "outputs": []
    },
    {
      "cell_type": "code",
      "metadata": {
        "id": "Ra4lw5TrAFn6",
        "colab_type": "code",
        "colab": {}
      },
      "source": [
        "list_ucs_vide0s()['from':'to']"
      ],
      "execution_count": null,
      "outputs": []
    },
    {
      "cell_type": "code",
      "metadata": {
        "id": "9kiFF794BIne",
        "colab_type": "code",
        "colab": {}
      },
      "source": [
        "list_ucf_videos()[0]"
      ],
      "execution_count": null,
      "outputs": []
    },
    {
      "cell_type": "markdown",
      "metadata": {
        "id": "M2c0VcBNFmF6",
        "colab_type": "text"
      },
      "source": [
        "*view dataset according to video categories*"
      ]
    },
    {
      "cell_type": "code",
      "metadata": {
        "colab_type": "code",
        "id": "V-QcxdhLIfi2",
        "colab": {}
      },
      "source": [
        "# Get the list of videos in the dataset.\n",
        "ucf_videos = list_ucf_videos()\n",
        "  \n",
        "categories = {}\n",
        "for video in ucf_videos:\n",
        "  category = video[2:-12]\n",
        "  if category not in categories:\n",
        "    categories[category] = []\n",
        "  categories[category].append(video)\n",
        "print(\"Found %d videos in %d categories.\" % (len(ucf_videos), len(categories)))\n",
        "\n",
        "for category, sequences in categories.items():\n",
        "  summary = \", \".join(sequences[:2])\n",
        "  print(\"%-20s %4d videos (%s, ...)\" % (category, len(sequences), summary))\n"
      ],
      "execution_count": null,
      "outputs": []
    },
    {
      "cell_type": "code",
      "metadata": {
        "colab_type": "code",
        "id": "c0ZvVDruN2nU",
        "colab": {}
      },
      "source": [
        "video_path = fetch_ucf_video(\"v_CricketShot_g04_c02.avi\")\n",
        "sample_video = load_video(video_path)"
      ],
      "execution_count": null,
      "outputs": []
    },
    {
      "cell_type": "code",
      "metadata": {
        "colab_type": "code",
        "id": "hASLA90YFPTO",
        "colab": {}
      },
      "source": [
        "sample_video.shape"
      ],
      "execution_count": null,
      "outputs": []
    },
    {
      "cell_type": "code",
      "metadata": {
        "colab_type": "code",
        "id": "POf5XgffvXlD",
        "colab": {}
      },
      "source": [
        "i3d = hub.load(\"https://tfhub.dev/deepmind/i3d-kinetics-600/1\").signatures['default']"
      ],
      "execution_count": null,
      "outputs": []
    },
    {
      "cell_type": "code",
      "metadata": {
        "colab_type": "code",
        "id": "3mTbqA5JGYUx",
        "colab": {}
      },
      "source": [
        "def predict(sample_video):\n",
        "  # Add a batch axis to the to the sample video.\n",
        "  model_input = tf.constant(sample_video, dtype=tf.float32)[tf.newaxis, ...]\n",
        "\n",
        "  logits = i3d(model_input)['default'][0]\n",
        "  probabilities = tf.nn.softmax(logits)\n",
        "  finalLabel = []\n",
        "  print(\"Top 5 actions:\")\n",
        "  for i in np.argsort(probabilities)[::-1][:5]:\n",
        "   print(f\"  {labels[i]:22}: {probabilities[i] * 100:5.2f}%\")\n",
        "   #print(labels[:i])\n",
        "   finalLabel.append(labels[i])\n",
        "  print(finalLabel)\n",
        "   "
      ],
      "execution_count": null,
      "outputs": []
    },
    {
      "cell_type": "code",
      "metadata": {
        "colab_type": "code",
        "id": "ykaXQcGRvK4E",
        "colab": {}
      },
      "source": [
        "predict(sample_video)"
      ],
      "execution_count": null,
      "outputs": []
    },
    {
      "cell_type": "code",
      "metadata": {
        "colab_type": "code",
        "id": "p-mZ9fFPCoNq",
        "colab": {}
      },
      "source": [
        "!curl -O https://upload.wikimedia.org/wikipedia/commons/8/86/End_of_a_jam.ogv"
      ],
      "execution_count": null,
      "outputs": []
    },
    {
      "cell_type": "code",
      "metadata": {
        "colab_type": "code",
        "id": "lpLmE8rjEbAF",
        "colab": {}
      },
      "source": [
        "video_path = \"End_of_a_jam.ogv\""
      ],
      "execution_count": null,
      "outputs": []
    },
    {
      "cell_type": "code",
      "metadata": {
        "colab_type": "code",
        "id": "CHZJ9qTLErhV",
        "colab": {}
      },
      "source": [
        "sample_video = load_video('/content/4.avi')[:100]\n",
        "sample_video.shape"
      ],
      "execution_count": null,
      "outputs": []
    },
    {
      "cell_type": "code",
      "metadata": {
        "colab_type": "code",
        "id": "2ZNLkEZ9Er-c",
        "colab": {}
      },
      "source": [
        "to_gif(sample_video)"
      ],
      "execution_count": null,
      "outputs": []
    },
    {
      "cell_type": "code",
      "metadata": {
        "colab_type": "code",
        "id": "yskHIRbxEtjS",
        "colab": {}
      },
      "source": [
        "predict(sample_video)"
      ],
      "execution_count": null,
      "outputs": []
    },
    {
      "cell_type": "markdown",
      "metadata": {
        "id": "ad2q1g7brj_B",
        "colab_type": "text"
      },
      "source": [
        "#server connection (Anvil code)"
      ]
    },
    {
      "cell_type": "code",
      "metadata": {
        "id": "K0PWidPdWK8l",
        "colab_type": "code",
        "colab": {}
      },
      "source": [
        "!pip install anvil-uplink"
      ],
      "execution_count": null,
      "outputs": []
    },
    {
      "cell_type": "code",
      "metadata": {
        "id": "lOCpEyis3MTk",
        "colab_type": "code",
        "colab": {}
      },
      "source": [
        "import anvil.server\n",
        "anvil.server.connect(\"3FVQSCHIC4RFMRKBGFNPSQC7-SLFH33LGN7LS4UZ6\")"
      ],
      "execution_count": null,
      "outputs": []
    },
    {
      "cell_type": "code",
      "metadata": {
        "id": "JFrcKOPH3ipP",
        "colab_type": "code",
        "colab": {}
      },
      "source": [
        "import anvil.media\n",
        "@anvil.server.callable\n",
        "def recog_actions(sample_video):\n",
        "  # Add a batch axis to the to the sample video.\n",
        "  with anvil.media.TempFile(sample_video) as filename:\n",
        "    if os.path.exists('/content/frame0.jpg'):\n",
        "      !rm /content/frame0.jpg\n",
        "    cap= cv2.VideoCapture(filename)\n",
        "    i=0\n",
        "    for i in range(1):\n",
        "      ret, frame = cap.read()\n",
        "      if ret == False:\n",
        "        break\n",
        "    cv2.imwrite('frame'+str(i)+'.jpg',frame)\n",
        "    i+=1\n",
        " \n",
        "    cap.release()\n",
        "    cv2.destroyAllWindows()\n",
        "\n",
        "    sample_video = load_video(filename)[:100]\n",
        "    model_input = tf.constant(sample_video, dtype=tf.float32)[tf.newaxis, ...]\n",
        "    logits = i3d(model_input)['default'][0]\n",
        "    probabilities = tf.nn.softmax(logits)\n",
        "    prediction =[]\n",
        "    #print(\"Top 5 actions:\")\n",
        "    for i in np.argsort(probabilities)[::-1][:5]:\n",
        "      print(f\"  {labels[i]:22}: {probabilities[i] * 100:5.2f}%\")    \n",
        "      prediction.append(labels[i])\n",
        "    return(prediction[0],anvil.media.from_file('/content/frame0.jpg', 'jpg'))"
      ],
      "execution_count": null,
      "outputs": []
    },
    {
      "cell_type": "markdown",
      "metadata": {
        "id": "QUu8SAH4rpiP",
        "colab_type": "text"
      },
      "source": [
        "# Trying Streamlit "
      ]
    },
    {
      "cell_type": "code",
      "metadata": {
        "id": "Djt_o3Y-6Sne",
        "colab_type": "code",
        "colab": {}
      },
      "source": [
        "from google.colab.output import eval_js\n",
        "print(eval_js(\"google.colab.kernel.proxyPort(8000)\"))"
      ],
      "execution_count": null,
      "outputs": []
    },
    {
      "cell_type": "code",
      "metadata": {
        "id": "5KTeMUfqNfjD",
        "colab_type": "code",
        "colab": {}
      },
      "source": [
        "!python -m http.server 8000"
      ],
      "execution_count": null,
      "outputs": []
    },
    {
      "cell_type": "code",
      "metadata": {
        "id": "dIL_XIxmNgOp",
        "colab_type": "code",
        "colab": {}
      },
      "source": [
        "from IPython.display import Javascript\n",
        "\n",
        "def show_port(port, height=400):\n",
        "  display(Javascript(\"\"\"\n",
        "  (async ()=>{\n",
        "    fm = document.createElement('iframe')\n",
        "    fm.src = await google.colab.kernel.proxyPort(%s)\n",
        "    fm.width = '95%%'\n",
        "    fm.height = '%d'\n",
        "    fm.frameBorder = 0\n",
        "    document.body.append(fm)\n",
        "  })();\n",
        "  \"\"\" % (port, height) ))"
      ],
      "execution_count": null,
      "outputs": []
    }
  ]
}