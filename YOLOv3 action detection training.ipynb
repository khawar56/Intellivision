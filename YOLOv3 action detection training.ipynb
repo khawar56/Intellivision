{
  "nbformat": 4,
  "nbformat_minor": 0,
  "metadata": {
    "colab": {
      "name": "yolo action detection.ipynb",
      "provenance": [],
      "collapsed_sections": []
    },
    "kernelspec": {
      "name": "python3",
      "display_name": "Python 3"
    },
    "accelerator": "GPU"
  },
  "cells": [
    {
      "cell_type": "code",
      "metadata": {
        "id": "59T2vpuBywMB",
        "colab_type": "code",
        "colab": {}
      },
      "source": [
        "!git clone https://github.com/ashish-roopan/Action-detection-Stanford40-yolov3-.git"
      ],
      "execution_count": null,
      "outputs": []
    },
    {
      "cell_type": "code",
      "metadata": {
        "id": "oVk-hf2b7w3-",
        "colab_type": "code",
        "colab": {}
      },
      "source": [
        "cd Action-detection-Stanford40-yolov3-/"
      ],
      "execution_count": null,
      "outputs": []
    },
    {
      "cell_type": "code",
      "metadata": {
        "id": "fvtzBLuKmzSF",
        "colab_type": "code",
        "colab": {}
      },
      "source": [
        "!wget http://vision.stanford.edu/Datasets/Stanford40.zip"
      ],
      "execution_count": null,
      "outputs": []
    },
    {
      "cell_type": "code",
      "metadata": {
        "id": "_-rIFxWboUxQ",
        "colab_type": "code",
        "colab": {}
      },
      "source": [
        "!unzip Stanford40.zip -d stanford40"
      ],
      "execution_count": null,
      "outputs": []
    },
    {
      "cell_type": "code",
      "metadata": {
        "id": "hVSOHv24zVtz",
        "colab_type": "code",
        "colab": {}
      },
      "source": [
        "cp /content/drive/My\\ Drive/yolov3/yolov3.weights /content/Action-detection-Stanford40-yolov3-"
      ],
      "execution_count": null,
      "outputs": []
    },
    {
      "cell_type": "code",
      "metadata": {
        "id": "6HS5GTFYzYcE",
        "colab_type": "code",
        "colab": {
          "base_uri": "https://localhost:8080/",
          "height": 35
        },
        "outputId": "78aab560-49bd-40a9-c478-0086142174e5"
      },
      "source": [
        "cd Action-detection-Stanford40-yolov3-/"
      ],
      "execution_count": null,
      "outputs": [
        {
          "output_type": "stream",
          "text": [
            "/content/Action-detection-Stanford40-yolov3-\n"
          ],
          "name": "stdout"
        }
      ]
    },
    {
      "cell_type": "code",
      "metadata": {
        "id": "TORhjUAA16M6",
        "colab_type": "code",
        "colab": {}
      },
      "source": [
        "!python convert.py yolov3.cfg yolov3.weights model_data/yolo_weights.h5"
      ],
      "execution_count": null,
      "outputs": []
    },
    {
      "cell_type": "code",
      "metadata": {
        "id": "qMkxzH1a2OKI",
        "colab_type": "code",
        "colab": {
          "base_uri": "https://localhost:8080/",
          "height": 35
        },
        "outputId": "b3516c65-1b45-482d-e030-08deadf41f07"
      },
      "source": [
        "!python datasplit.py"
      ],
      "execution_count": null,
      "outputs": [
        {
          "output_type": "stream",
          "text": [
            "Test and Train sets created!\n"
          ],
          "name": "stdout"
        }
      ]
    },
    {
      "cell_type": "code",
      "metadata": {
        "id": "-4VJ_JGa29Pp",
        "colab_type": "code",
        "colab": {
          "base_uri": "https://localhost:8080/",
          "height": 35
        },
        "outputId": "6f62bf68-438e-4341-8655-58d6964fd268"
      },
      "source": [
        "!python convert2text.py"
      ],
      "execution_count": null,
      "outputs": [
        {
          "output_type": "stream",
          "text": [
            "40\n"
          ],
          "name": "stdout"
        }
      ]
    },
    {
      "cell_type": "code",
      "metadata": {
        "id": "wqUUIwuI3TDs",
        "colab_type": "code",
        "colab": {
          "base_uri": "https://localhost:8080/",
          "height": 35
        },
        "outputId": "db52c3cf-454d-4be5-e406-41a63a51d3d6"
      },
      "source": [
        "cd Action-detection-Stanford40-yolov3-/"
      ],
      "execution_count": null,
      "outputs": [
        {
          "output_type": "stream",
          "text": [
            "/content/Action-detection-Stanford40-yolov3-\n"
          ],
          "name": "stdout"
        }
      ]
    },
    {
      "cell_type": "code",
      "metadata": {
        "id": "5Adylx7R7G9L",
        "colab_type": "code",
        "colab": {}
      },
      "source": [
        "mkdir logs"
      ],
      "execution_count": null,
      "outputs": []
    },
    {
      "cell_type": "code",
      "metadata": {
        "id": "N1ciB0ys9L0I",
        "colab_type": "code",
        "colab": {}
      },
      "source": [
        "!python train.py"
      ],
      "execution_count": null,
      "outputs": []
    },
    {
      "cell_type": "code",
      "metadata": {
        "id": "uwLGGo7xVpN2",
        "colab_type": "code",
        "colab": {}
      },
      "source": [
        "%tensorflow_version 1.6.0"
      ],
      "execution_count": null,
      "outputs": []
    },
    {
      "cell_type": "code",
      "metadata": {
        "id": "BIE95OEX-D2w",
        "colab_type": "code",
        "colab": {}
      },
      "source": [
        "!wget https://pjreddie.com/media/files/yolov3.weights"
      ],
      "execution_count": null,
      "outputs": []
    },
    {
      "cell_type": "code",
      "metadata": {
        "id": "JWK7aglA9waf",
        "colab_type": "code",
        "colab": {}
      },
      "source": [
        "!python convert.py -w yolov3.cfg yolov3.weights model_data/yolo_weights.h5"
      ],
      "execution_count": null,
      "outputs": []
    },
    {
      "cell_type": "code",
      "metadata": {
        "id": "Zz4CPS-uOV7t",
        "colab_type": "code",
        "colab": {
          "base_uri": "https://localhost:8080/",
          "height": 35
        },
        "outputId": "952ceb73-0ee1-426a-d82b-1d0333773af4"
      },
      "source": [
        "import tensorflow as tf\n",
        "print(tf.__version__)"
      ],
      "execution_count": null,
      "outputs": [
        {
          "output_type": "stream",
          "text": [
            "2.2.0-rc3\n"
          ],
          "name": "stdout"
        }
      ]
    },
    {
      "cell_type": "code",
      "metadata": {
        "id": "_LFmcB0E74ZJ",
        "colab_type": "code",
        "colab": {
          "base_uri": "https://localhost:8080/",
          "height": 35
        },
        "outputId": "10434035-f0bc-4998-ff6b-22bb114fb843"
      },
      "source": [
        "!bash yolov3/data/get_coco2017.sh"
      ],
      "execution_count": null,
      "outputs": [
        {
          "output_type": "stream",
          "text": [
            "bash: yolov3/data/get_coco2017.sh: No such file or directory\n"
          ],
          "name": "stdout"
        }
      ]
    },
    {
      "cell_type": "code",
      "metadata": {
        "id": "QiXsNyId8stg",
        "colab_type": "code",
        "colab": {}
      },
      "source": [
        "!git clone https://github.com/ultralytics/yolov3\n",
        "!bash yolov3/data/get_coco2017.sh"
      ],
      "execution_count": null,
      "outputs": []
    },
    {
      "cell_type": "code",
      "metadata": {
        "id": "-B4HK5cyb_pb",
        "colab_type": "code",
        "colab": {
          "base_uri": "https://localhost:8080/",
          "height": 85
        },
        "outputId": "9edc40e8-7184-45ee-fff1-41c81d488bd9"
      },
      "source": [
        "!git clone https://github.com/ashish-roopan/Action-detection-Stanford40-yolov3-.git"
      ],
      "execution_count": null,
      "outputs": [
        {
          "output_type": "stream",
          "text": [
            "Cloning into 'Action-detection-Stanford40-yolov3-'...\n",
            "remote: Enumerating objects: 72, done.\u001b[K\n",
            "Unpacking objects:   1% (1/72)   \rUnpacking objects:   2% (2/72)   \rUnpacking objects:   4% (3/72)   \rUnpacking objects:   5% (4/72)   \rUnpacking objects:   6% (5/72)   \rUnpacking objects:   8% (6/72)   \rUnpacking objects:   9% (7/72)   \rUnpacking objects:  11% (8/72)   \rUnpacking objects:  12% (9/72)   \rUnpacking objects:  13% (10/72)   \rUnpacking objects:  15% (11/72)   \rUnpacking objects:  16% (12/72)   \rUnpacking objects:  18% (13/72)   \rUnpacking objects:  19% (14/72)   \rUnpacking objects:  20% (15/72)   \rUnpacking objects:  22% (16/72)   \rUnpacking objects:  23% (17/72)   \rUnpacking objects:  25% (18/72)   \rUnpacking objects:  26% (19/72)   \rUnpacking objects:  27% (20/72)   \rUnpacking objects:  29% (21/72)   \rUnpacking objects:  30% (22/72)   \rUnpacking objects:  31% (23/72)   \rUnpacking objects:  33% (24/72)   \rUnpacking objects:  34% (25/72)   \rUnpacking objects:  36% (26/72)   \rUnpacking objects:  37% (27/72)   \rUnpacking objects:  38% (28/72)   \rUnpacking objects:  40% (29/72)   \rUnpacking objects:  41% (30/72)   \rUnpacking objects:  43% (31/72)   \rUnpacking objects:  44% (32/72)   \rUnpacking objects:  45% (33/72)   \rremote: Total 72 (delta 0), reused 0 (delta 0), pack-reused 72\u001b[K\n",
            "Unpacking objects:  47% (34/72)   \rUnpacking objects:  48% (35/72)   \rUnpacking objects:  50% (36/72)   \rUnpacking objects:  51% (37/72)   \rUnpacking objects:  52% (38/72)   \rUnpacking objects:  54% (39/72)   \rUnpacking objects:  55% (40/72)   \rUnpacking objects:  56% (41/72)   \rUnpacking objects:  58% (42/72)   \rUnpacking objects:  59% (43/72)   \rUnpacking objects:  61% (44/72)   \rUnpacking objects:  62% (45/72)   \rUnpacking objects:  63% (46/72)   \rUnpacking objects:  65% (47/72)   \rUnpacking objects:  66% (48/72)   \rUnpacking objects:  68% (49/72)   \rUnpacking objects:  69% (50/72)   \rUnpacking objects:  70% (51/72)   \rUnpacking objects:  72% (52/72)   \rUnpacking objects:  73% (53/72)   \rUnpacking objects:  75% (54/72)   \rUnpacking objects:  76% (55/72)   \rUnpacking objects:  77% (56/72)   \rUnpacking objects:  79% (57/72)   \rUnpacking objects:  80% (58/72)   \rUnpacking objects:  81% (59/72)   \rUnpacking objects:  83% (60/72)   \rUnpacking objects:  84% (61/72)   \rUnpacking objects:  86% (62/72)   \rUnpacking objects:  87% (63/72)   \rUnpacking objects:  88% (64/72)   \rUnpacking objects:  90% (65/72)   \rUnpacking objects:  91% (66/72)   \rUnpacking objects:  93% (67/72)   \rUnpacking objects:  94% (68/72)   \rUnpacking objects:  95% (69/72)   \rUnpacking objects:  97% (70/72)   \rUnpacking objects:  98% (71/72)   \rUnpacking objects: 100% (72/72)   \rUnpacking objects: 100% (72/72), done.\n"
          ],
          "name": "stdout"
        }
      ]
    },
    {
      "cell_type": "code",
      "metadata": {
        "id": "Fx-8v5hmcB-p",
        "colab_type": "code",
        "colab": {
          "base_uri": "https://localhost:8080/",
          "height": 204
        },
        "outputId": "2968df11-0a01-408a-c02a-27079e197514"
      },
      "source": [
        "!wget https://pjreddie.com/media/files/yolov3.weights"
      ],
      "execution_count": null,
      "outputs": [
        {
          "output_type": "stream",
          "text": [
            "--2020-08-13 06:09:44--  https://pjreddie.com/media/files/yolov3.weights\n",
            "Resolving pjreddie.com (pjreddie.com)... 128.208.4.108\n",
            "Connecting to pjreddie.com (pjreddie.com)|128.208.4.108|:443... connected.\n",
            "HTTP request sent, awaiting response... 200 OK\n",
            "Length: 248007048 (237M) [application/octet-stream]\n",
            "Saving to: ‘yolov3.weights’\n",
            "\n",
            "yolov3.weights      100%[===================>] 236.52M   478KB/s    in 12m 14s \n",
            "\n",
            "2020-08-13 06:21:59 (330 KB/s) - ‘yolov3.weights’ saved [248007048/248007048]\n",
            "\n"
          ],
          "name": "stdout"
        }
      ]
    },
    {
      "cell_type": "code",
      "metadata": {
        "id": "mtlgoBC2cKQp",
        "colab_type": "code",
        "colab": {
          "base_uri": "https://localhost:8080/",
          "height": 34
        },
        "outputId": "0bff2804-12b1-4522-ce77-db3ef4aa7f44"
      },
      "source": [
        "%cd /content/Action-detection-Stanford40-yolov3-"
      ],
      "execution_count": null,
      "outputs": [
        {
          "output_type": "stream",
          "text": [
            "/content/Action-detection-Stanford40-yolov3-\n"
          ],
          "name": "stdout"
        }
      ]
    },
    {
      "cell_type": "code",
      "metadata": {
        "id": "UsIO-b7icEA2",
        "colab_type": "code",
        "colab": {}
      },
      "source": [
        "python convert.py yolov3.cfg yolov3.weights model_data/yolo_weights.h5"
      ],
      "execution_count": null,
      "outputs": []
    }
  ]
}